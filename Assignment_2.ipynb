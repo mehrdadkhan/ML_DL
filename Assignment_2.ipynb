{
 "cells": [
  {
   "cell_type": "code",
   "execution_count": 2,
   "metadata": {},
   "outputs": [
    {
     "name": "stdout",
     "output_type": "stream",
     "text": [
      "*\n",
      "**\n",
      "***\n",
      "****\n",
      "*****\n",
      "****\n",
      "***\n",
      "**\n",
      "*\n"
     ]
    }
   ],
   "source": [
    "#1st question Assignment number 2\n",
    "\n",
    "for i in range(1,2):\n",
    "    for j in range(1,6):\n",
    "        print(j *'*')\n",
    "    for k in range(4,0,-1):\n",
    "        print(k * '*')"
   ]
  },
  {
   "cell_type": "code",
   "execution_count": 12,
   "metadata": {},
   "outputs": [
    {
     "name": "stdout",
     "output_type": "stream",
     "text": [
      "Please enter your text ->  ineuron\n",
      "norueni\n"
     ]
    }
   ],
   "source": [
    "#2nd question Assignment number 2\n",
    "TextInp = input('Please enter your text ->  ')\n",
    "OutputStr = \"\"\n",
    "for i in range( (len(TextInp)-1), -1 ,-1):\n",
    "    OutputStr = OutputStr + TextInp[i]\n",
    "print(OutputStr)"
   ]
  },
  {
   "cell_type": "code",
   "execution_count": null,
   "metadata": {},
   "outputs": [],
   "source": []
  }
 ],
 "metadata": {
  "kernelspec": {
   "display_name": "Python 3",
   "language": "python",
   "name": "python3"
  },
  "language_info": {
   "codemirror_mode": {
    "name": "ipython",
    "version": 3
   },
   "file_extension": ".py",
   "mimetype": "text/x-python",
   "name": "python",
   "nbconvert_exporter": "python",
   "pygments_lexer": "ipython3",
   "version": "3.7.6"
  }
 },
 "nbformat": 4,
 "nbformat_minor": 4
}
